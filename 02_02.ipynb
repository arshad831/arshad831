{
 "cells": [
  {
   "cell_type": "code",
   "execution_count": 1,
   "metadata": {},
   "outputs": [],
   "source": [
    "import pandas as pd"
   ]
  },
  {
   "cell_type": "code",
   "execution_count": 2,
   "metadata": {},
   "outputs": [
    {
     "name": "stdout",
     "output_type": "stream",
     "text": [
      "/Users/chrisdallavilla/Desktop/Exercise Files/data\n"
     ]
    }
   ],
   "source": [
    "cd data"
   ]
  },
  {
   "cell_type": "code",
   "execution_count": 3,
   "metadata": {},
   "outputs": [
    {
     "name": "stdout",
     "output_type": "stream",
     "text": [
      "ci-data.csv\r\n"
     ]
    }
   ],
   "source": [
    "ls"
   ]
  },
  {
   "cell_type": "code",
   "execution_count": 4,
   "metadata": {},
   "outputs": [],
   "source": [
    "data_to_assess = pd.read_csv('ci-data.csv')"
   ]
  },
  {
   "cell_type": "code",
   "execution_count": 7,
   "metadata": {},
   "outputs": [
    {
     "data": {
      "text/html": [
       "<div>\n",
       "<style scoped>\n",
       "    .dataframe tbody tr th:only-of-type {\n",
       "        vertical-align: middle;\n",
       "    }\n",
       "\n",
       "    .dataframe tbody tr th {\n",
       "        vertical-align: top;\n",
       "    }\n",
       "\n",
       "    .dataframe thead th {\n",
       "        text-align: right;\n",
       "    }\n",
       "</style>\n",
       "<table border=\"1\" class=\"dataframe\">\n",
       "  <thead>\n",
       "    <tr style=\"text-align: right;\">\n",
       "      <th></th>\n",
       "      <th>id</th>\n",
       "      <th>purchase_counts</th>\n",
       "      <th>purchase_sum</th>\n",
       "      <th>attribution_score</th>\n",
       "      <th>website_visits</th>\n",
       "      <th>website_behavior_classification</th>\n",
       "      <th>experience</th>\n",
       "      <th>active</th>\n",
       "      <th>characteristic_one</th>\n",
       "      <th>characteristic_two</th>\n",
       "      <th>characteristic_three</th>\n",
       "      <th>customer_journey_progress_program</th>\n",
       "      <th>remarks</th>\n",
       "    </tr>\n",
       "  </thead>\n",
       "  <tbody>\n",
       "    <tr>\n",
       "      <th>0</th>\n",
       "      <td>5ca74cdcfc13ae60bd000097</td>\n",
       "      <td>5</td>\n",
       "      <td>44810.57</td>\n",
       "      <td>4</td>\n",
       "      <td>14</td>\n",
       "      <td>5</td>\n",
       "      <td>0.00</td>\n",
       "      <td>2.05</td>\n",
       "      <td>1</td>\n",
       "      <td>25</td>\n",
       "      <td>3</td>\n",
       "      <td>2</td>\n",
       "      <td>In hac habitasse platea dictumst. Etiam faucib...</td>\n",
       "    </tr>\n",
       "    <tr>\n",
       "      <th>1</th>\n",
       "      <td>5ca74cddfc13ae60bd0000f5</td>\n",
       "      <td>5</td>\n",
       "      <td>30612.91</td>\n",
       "      <td>9</td>\n",
       "      <td>7</td>\n",
       "      <td>9</td>\n",
       "      <td>0.00</td>\n",
       "      <td>4.94</td>\n",
       "      <td>2</td>\n",
       "      <td>25</td>\n",
       "      <td>3</td>\n",
       "      <td>1</td>\n",
       "      <td>Praesent blandit. Nam nulla. Integer pede just...</td>\n",
       "    </tr>\n",
       "    <tr>\n",
       "      <th>2</th>\n",
       "      <td>5ca74cddfc13ae60bd00010a</td>\n",
       "      <td>7</td>\n",
       "      <td>35655.59</td>\n",
       "      <td>3</td>\n",
       "      <td>26</td>\n",
       "      <td>5</td>\n",
       "      <td>0.00</td>\n",
       "      <td>3.61</td>\n",
       "      <td>1</td>\n",
       "      <td>26</td>\n",
       "      <td>1</td>\n",
       "      <td>1</td>\n",
       "      <td>Praesent id massa id nisl venenatis lacinia. A...</td>\n",
       "    </tr>\n",
       "    <tr>\n",
       "      <th>3</th>\n",
       "      <td>5ca74cdcfc13ae60bd000073</td>\n",
       "      <td>7</td>\n",
       "      <td>30139.24</td>\n",
       "      <td>7</td>\n",
       "      <td>9</td>\n",
       "      <td>4</td>\n",
       "      <td>0.01</td>\n",
       "      <td>4.44</td>\n",
       "      <td>2</td>\n",
       "      <td>26</td>\n",
       "      <td>3</td>\n",
       "      <td>1</td>\n",
       "      <td>In hac habitasse platea dictumst. Morbi vestib...</td>\n",
       "    </tr>\n",
       "    <tr>\n",
       "      <th>4</th>\n",
       "      <td>5ca74cdcfc13ae60bd000040</td>\n",
       "      <td>4</td>\n",
       "      <td>4501.13</td>\n",
       "      <td>3</td>\n",
       "      <td>10</td>\n",
       "      <td>1</td>\n",
       "      <td>0.02</td>\n",
       "      <td>4.51</td>\n",
       "      <td>1</td>\n",
       "      <td>25</td>\n",
       "      <td>3</td>\n",
       "      <td>1</td>\n",
       "      <td>Pellentesque at nulla. Suspendisse potenti. Cr...</td>\n",
       "    </tr>\n",
       "    <tr>\n",
       "      <th>...</th>\n",
       "      <td>...</td>\n",
       "      <td>...</td>\n",
       "      <td>...</td>\n",
       "      <td>...</td>\n",
       "      <td>...</td>\n",
       "      <td>...</td>\n",
       "      <td>...</td>\n",
       "      <td>...</td>\n",
       "      <td>...</td>\n",
       "      <td>...</td>\n",
       "      <td>...</td>\n",
       "      <td>...</td>\n",
       "      <td>...</td>\n",
       "    </tr>\n",
       "    <tr>\n",
       "      <th>395</th>\n",
       "      <td>5ca74cdcfc13ae60bd000013</td>\n",
       "      <td>4</td>\n",
       "      <td>1426.58</td>\n",
       "      <td>9</td>\n",
       "      <td>3</td>\n",
       "      <td>5</td>\n",
       "      <td>0.99</td>\n",
       "      <td>4.99</td>\n",
       "      <td>2</td>\n",
       "      <td>25</td>\n",
       "      <td>2</td>\n",
       "      <td>7</td>\n",
       "      <td>In hac habitasse platea dictumst. Etiam faucib...</td>\n",
       "    </tr>\n",
       "    <tr>\n",
       "      <th>396</th>\n",
       "      <td>5ca74cddfc13ae60bd0000e3</td>\n",
       "      <td>7</td>\n",
       "      <td>13374.10</td>\n",
       "      <td>1</td>\n",
       "      <td>28</td>\n",
       "      <td>4</td>\n",
       "      <td>0.99</td>\n",
       "      <td>2.38</td>\n",
       "      <td>1</td>\n",
       "      <td>25</td>\n",
       "      <td>6</td>\n",
       "      <td>10</td>\n",
       "      <td>Duis consequat dui nec nisi volutpat eleifend....</td>\n",
       "    </tr>\n",
       "    <tr>\n",
       "      <th>397</th>\n",
       "      <td>5ca74cddfc13ae60bd000117</td>\n",
       "      <td>1</td>\n",
       "      <td>23515.38</td>\n",
       "      <td>11</td>\n",
       "      <td>7</td>\n",
       "      <td>4</td>\n",
       "      <td>0.99</td>\n",
       "      <td>1.48</td>\n",
       "      <td>1</td>\n",
       "      <td>25</td>\n",
       "      <td>3</td>\n",
       "      <td>10</td>\n",
       "      <td>Nulla ut erat id mauris vulputate elementum. N...</td>\n",
       "    </tr>\n",
       "    <tr>\n",
       "      <th>398</th>\n",
       "      <td>5ca74cdcfc13ae60bd0000ad</td>\n",
       "      <td>2</td>\n",
       "      <td>9976.02</td>\n",
       "      <td>12</td>\n",
       "      <td>12</td>\n",
       "      <td>8</td>\n",
       "      <td>1.00</td>\n",
       "      <td>4.65</td>\n",
       "      <td>2</td>\n",
       "      <td>25</td>\n",
       "      <td>2</td>\n",
       "      <td>10</td>\n",
       "      <td>Cum sociis natoque penatibus et magnis dis par...</td>\n",
       "    </tr>\n",
       "    <tr>\n",
       "      <th>399</th>\n",
       "      <td>5ca74cddfc13ae60bd000103</td>\n",
       "      <td>3</td>\n",
       "      <td>14947.74</td>\n",
       "      <td>11</td>\n",
       "      <td>16</td>\n",
       "      <td>7</td>\n",
       "      <td>1.00</td>\n",
       "      <td>1.71</td>\n",
       "      <td>2</td>\n",
       "      <td>24</td>\n",
       "      <td>6</td>\n",
       "      <td>2</td>\n",
       "      <td>Phasellus in felis. Donec semper sapien a libe...</td>\n",
       "    </tr>\n",
       "  </tbody>\n",
       "</table>\n",
       "<p>400 rows × 13 columns</p>\n",
       "</div>"
      ],
      "text/plain": [
       "                           id  purchase_counts  purchase_sum  \\\n",
       "0    5ca74cdcfc13ae60bd000097                5      44810.57   \n",
       "1    5ca74cddfc13ae60bd0000f5                5      30612.91   \n",
       "2    5ca74cddfc13ae60bd00010a                7      35655.59   \n",
       "3    5ca74cdcfc13ae60bd000073                7      30139.24   \n",
       "4    5ca74cdcfc13ae60bd000040                4       4501.13   \n",
       "..                        ...              ...           ...   \n",
       "395  5ca74cdcfc13ae60bd000013                4       1426.58   \n",
       "396  5ca74cddfc13ae60bd0000e3                7      13374.10   \n",
       "397  5ca74cddfc13ae60bd000117                1      23515.38   \n",
       "398  5ca74cdcfc13ae60bd0000ad                2       9976.02   \n",
       "399  5ca74cddfc13ae60bd000103                3      14947.74   \n",
       "\n",
       "     attribution_score  website_visits  website_behavior_classification  \\\n",
       "0                    4              14                                5   \n",
       "1                    9               7                                9   \n",
       "2                    3              26                                5   \n",
       "3                    7               9                                4   \n",
       "4                    3              10                                1   \n",
       "..                 ...             ...                              ...   \n",
       "395                  9               3                                5   \n",
       "396                  1              28                                4   \n",
       "397                 11               7                                4   \n",
       "398                 12              12                                8   \n",
       "399                 11              16                                7   \n",
       "\n",
       "     experience  active  characteristic_one  characteristic_two  \\\n",
       "0          0.00    2.05                   1                  25   \n",
       "1          0.00    4.94                   2                  25   \n",
       "2          0.00    3.61                   1                  26   \n",
       "3          0.01    4.44                   2                  26   \n",
       "4          0.02    4.51                   1                  25   \n",
       "..          ...     ...                 ...                 ...   \n",
       "395        0.99    4.99                   2                  25   \n",
       "396        0.99    2.38                   1                  25   \n",
       "397        0.99    1.48                   1                  25   \n",
       "398        1.00    4.65                   2                  25   \n",
       "399        1.00    1.71                   2                  24   \n",
       "\n",
       "     characteristic_three  customer_journey_progress_program  \\\n",
       "0                       3                                  2   \n",
       "1                       3                                  1   \n",
       "2                       1                                  1   \n",
       "3                       3                                  1   \n",
       "4                       3                                  1   \n",
       "..                    ...                                ...   \n",
       "395                     2                                  7   \n",
       "396                     6                                 10   \n",
       "397                     3                                 10   \n",
       "398                     2                                 10   \n",
       "399                     6                                  2   \n",
       "\n",
       "                                               remarks  \n",
       "0    In hac habitasse platea dictumst. Etiam faucib...  \n",
       "1    Praesent blandit. Nam nulla. Integer pede just...  \n",
       "2    Praesent id massa id nisl venenatis lacinia. A...  \n",
       "3    In hac habitasse platea dictumst. Morbi vestib...  \n",
       "4    Pellentesque at nulla. Suspendisse potenti. Cr...  \n",
       "..                                                 ...  \n",
       "395  In hac habitasse platea dictumst. Etiam faucib...  \n",
       "396  Duis consequat dui nec nisi volutpat eleifend....  \n",
       "397  Nulla ut erat id mauris vulputate elementum. N...  \n",
       "398  Cum sociis natoque penatibus et magnis dis par...  \n",
       "399  Phasellus in felis. Donec semper sapien a libe...  \n",
       "\n",
       "[400 rows x 13 columns]"
      ]
     },
     "execution_count": 7,
     "metadata": {},
     "output_type": "execute_result"
    }
   ],
   "source": [
    "data_to_assess"
   ]
  },
  {
   "cell_type": "code",
   "execution_count": 6,
   "metadata": {},
   "outputs": [],
   "source": [
    "data_to_assess = pd.read_csv(r'C:\\Users\\ArshadTest\\Downloads\\Ex_Files_Customer_Insights_Tools_Analysis\\Exercise Files\\data\\ci-data.csv')"
   ]
  },
  {
   "cell_type": "code",
   "execution_count": 8,
   "metadata": {},
   "outputs": [
    {
     "data": {
      "text/plain": [
       "Index(['id', 'purchase_counts', 'purchase_sum', 'attribution_score',\n",
       "       'website_visits', 'website_behavior_classification', 'experience',\n",
       "       'active', 'characteristic_one', 'characteristic_two',\n",
       "       'characteristic_three', 'customer_journey_progress_program', 'remarks'],\n",
       "      dtype='object')"
      ]
     },
     "execution_count": 8,
     "metadata": {},
     "output_type": "execute_result"
    }
   ],
   "source": [
    "data_to_assess.columns"
   ]
  },
  {
   "cell_type": "code",
   "execution_count": 7,
   "metadata": {},
   "outputs": [
    {
     "data": {
      "text/plain": [
       "400"
      ]
     },
     "execution_count": 7,
     "metadata": {},
     "output_type": "execute_result"
    }
   ],
   "source": [
    "len(data_to_assess)"
   ]
  },
  {
   "cell_type": "code",
   "execution_count": 8,
   "metadata": {},
   "outputs": [
    {
     "data": {
      "text/html": [
       "<div>\n",
       "<style scoped>\n",
       "    .dataframe tbody tr th:only-of-type {\n",
       "        vertical-align: middle;\n",
       "    }\n",
       "\n",
       "    .dataframe tbody tr th {\n",
       "        vertical-align: top;\n",
       "    }\n",
       "\n",
       "    .dataframe thead th {\n",
       "        text-align: right;\n",
       "    }\n",
       "</style>\n",
       "<table border=\"1\" class=\"dataframe\">\n",
       "  <thead>\n",
       "    <tr style=\"text-align: right;\">\n",
       "      <th></th>\n",
       "      <th>purchase_counts</th>\n",
       "      <th>purchase_sum</th>\n",
       "      <th>attribution_score</th>\n",
       "      <th>website_visits</th>\n",
       "      <th>website_behavior_classification</th>\n",
       "      <th>experience</th>\n",
       "      <th>active</th>\n",
       "      <th>characteristic_one</th>\n",
       "      <th>characteristic_two</th>\n",
       "      <th>characteristic_three</th>\n",
       "      <th>customer_journey_progress_program</th>\n",
       "    </tr>\n",
       "  </thead>\n",
       "  <tbody>\n",
       "    <tr>\n",
       "      <th>count</th>\n",
       "      <td>400.000000</td>\n",
       "      <td>400.000000</td>\n",
       "      <td>400.000000</td>\n",
       "      <td>400.000000</td>\n",
       "      <td>400.000000</td>\n",
       "      <td>400.000000</td>\n",
       "      <td>400.000000</td>\n",
       "      <td>400.00000</td>\n",
       "      <td>400.00000</td>\n",
       "      <td>400.000000</td>\n",
       "      <td>400.000000</td>\n",
       "    </tr>\n",
       "    <tr>\n",
       "      <th>mean</th>\n",
       "      <td>4.047500</td>\n",
       "      <td>24631.522625</td>\n",
       "      <td>5.947500</td>\n",
       "      <td>16.775000</td>\n",
       "      <td>6.340000</td>\n",
       "      <td>0.495700</td>\n",
       "      <td>3.085650</td>\n",
       "      <td>1.51250</td>\n",
       "      <td>25.09750</td>\n",
       "      <td>3.892500</td>\n",
       "      <td>5.387500</td>\n",
       "    </tr>\n",
       "    <tr>\n",
       "      <th>std</th>\n",
       "      <td>1.998808</td>\n",
       "      <td>14240.431535</td>\n",
       "      <td>3.909342</td>\n",
       "      <td>9.204411</td>\n",
       "      <td>3.392369</td>\n",
       "      <td>0.295642</td>\n",
       "      <td>1.151398</td>\n",
       "      <td>0.50047</td>\n",
       "      <td>0.98764</td>\n",
       "      <td>2.021425</td>\n",
       "      <td>2.925533</td>\n",
       "    </tr>\n",
       "    <tr>\n",
       "      <th>min</th>\n",
       "      <td>1.000000</td>\n",
       "      <td>48.130000</td>\n",
       "      <td>0.000000</td>\n",
       "      <td>1.000000</td>\n",
       "      <td>1.000000</td>\n",
       "      <td>0.000000</td>\n",
       "      <td>1.010000</td>\n",
       "      <td>1.00000</td>\n",
       "      <td>22.00000</td>\n",
       "      <td>1.000000</td>\n",
       "      <td>0.000000</td>\n",
       "    </tr>\n",
       "    <tr>\n",
       "      <th>25%</th>\n",
       "      <td>2.000000</td>\n",
       "      <td>12235.735000</td>\n",
       "      <td>2.000000</td>\n",
       "      <td>9.000000</td>\n",
       "      <td>3.750000</td>\n",
       "      <td>0.240000</td>\n",
       "      <td>2.115000</td>\n",
       "      <td>1.00000</td>\n",
       "      <td>25.00000</td>\n",
       "      <td>2.000000</td>\n",
       "      <td>3.000000</td>\n",
       "    </tr>\n",
       "    <tr>\n",
       "      <th>50%</th>\n",
       "      <td>4.000000</td>\n",
       "      <td>25002.425000</td>\n",
       "      <td>6.000000</td>\n",
       "      <td>16.000000</td>\n",
       "      <td>6.000000</td>\n",
       "      <td>0.470000</td>\n",
       "      <td>3.160000</td>\n",
       "      <td>2.00000</td>\n",
       "      <td>25.00000</td>\n",
       "      <td>4.000000</td>\n",
       "      <td>5.000000</td>\n",
       "    </tr>\n",
       "    <tr>\n",
       "      <th>75%</th>\n",
       "      <td>6.000000</td>\n",
       "      <td>36221.350000</td>\n",
       "      <td>9.000000</td>\n",
       "      <td>25.000000</td>\n",
       "      <td>9.000000</td>\n",
       "      <td>0.742500</td>\n",
       "      <td>4.120000</td>\n",
       "      <td>2.00000</td>\n",
       "      <td>26.00000</td>\n",
       "      <td>6.000000</td>\n",
       "      <td>8.000000</td>\n",
       "    </tr>\n",
       "    <tr>\n",
       "      <th>max</th>\n",
       "      <td>7.000000</td>\n",
       "      <td>49970.640000</td>\n",
       "      <td>12.000000</td>\n",
       "      <td>32.000000</td>\n",
       "      <td>12.000000</td>\n",
       "      <td>1.000000</td>\n",
       "      <td>5.000000</td>\n",
       "      <td>2.00000</td>\n",
       "      <td>28.00000</td>\n",
       "      <td>7.000000</td>\n",
       "      <td>10.000000</td>\n",
       "    </tr>\n",
       "  </tbody>\n",
       "</table>\n",
       "</div>"
      ],
      "text/plain": [
       "       purchase_counts  purchase_sum  attribution_score  website_visits  \\\n",
       "count       400.000000    400.000000         400.000000      400.000000   \n",
       "mean          4.047500  24631.522625           5.947500       16.775000   \n",
       "std           1.998808  14240.431535           3.909342        9.204411   \n",
       "min           1.000000     48.130000           0.000000        1.000000   \n",
       "25%           2.000000  12235.735000           2.000000        9.000000   \n",
       "50%           4.000000  25002.425000           6.000000       16.000000   \n",
       "75%           6.000000  36221.350000           9.000000       25.000000   \n",
       "max           7.000000  49970.640000          12.000000       32.000000   \n",
       "\n",
       "       website_behavior_classification  experience      active  \\\n",
       "count                       400.000000  400.000000  400.000000   \n",
       "mean                          6.340000    0.495700    3.085650   \n",
       "std                           3.392369    0.295642    1.151398   \n",
       "min                           1.000000    0.000000    1.010000   \n",
       "25%                           3.750000    0.240000    2.115000   \n",
       "50%                           6.000000    0.470000    3.160000   \n",
       "75%                           9.000000    0.742500    4.120000   \n",
       "max                          12.000000    1.000000    5.000000   \n",
       "\n",
       "       characteristic_one  characteristic_two  characteristic_three  \\\n",
       "count           400.00000           400.00000            400.000000   \n",
       "mean              1.51250            25.09750              3.892500   \n",
       "std               0.50047             0.98764              2.021425   \n",
       "min               1.00000            22.00000              1.000000   \n",
       "25%               1.00000            25.00000              2.000000   \n",
       "50%               2.00000            25.00000              4.000000   \n",
       "75%               2.00000            26.00000              6.000000   \n",
       "max               2.00000            28.00000              7.000000   \n",
       "\n",
       "       customer_journey_progress_program  \n",
       "count                         400.000000  \n",
       "mean                            5.387500  \n",
       "std                             2.925533  \n",
       "min                             0.000000  \n",
       "25%                             3.000000  \n",
       "50%                             5.000000  \n",
       "75%                             8.000000  \n",
       "max                            10.000000  "
      ]
     },
     "execution_count": 8,
     "metadata": {},
     "output_type": "execute_result"
    }
   ],
   "source": [
    "data_to_assess.describe()"
   ]
  },
  {
   "cell_type": "code",
   "execution_count": 9,
   "metadata": {},
   "outputs": [
    {
     "data": {
      "text/plain": [
       "False"
      ]
     },
     "execution_count": 9,
     "metadata": {},
     "output_type": "execute_result"
    }
   ],
   "source": [
    "data_to_assess.isnull().values.any()"
   ]
  },
  {
   "cell_type": "code",
   "execution_count": 9,
   "metadata": {},
   "outputs": [],
   "source": [
    "import matplotlib.pyplot as plt\n",
    "%matplotlib inline"
   ]
  },
  {
   "cell_type": "code",
   "execution_count": 10,
   "metadata": {},
   "outputs": [
    {
     "data": {
      "text/plain": [
       "(array([81., 23., 24., 23., 30., 56., 41., 32., 20., 70.]),\n",
       " array([ 0. ,  1.2,  2.4,  3.6,  4.8,  6. ,  7.2,  8.4,  9.6, 10.8, 12. ]),\n",
       " <a list of 10 Patch objects>)"
      ]
     },
     "execution_count": 10,
     "metadata": {},
     "output_type": "execute_result"
    },
    {
     "data": {
      "image/png": "[encoded data removed]",
      "text/plain": [
       "<Figure size 432x288 with 1 Axes>"
      ]
     },
     "metadata": {
      "needs_background": "light"
     },
     "output_type": "display_data"
    }
   ],
   "source": [
    "plt.hist(data_to_assess.attribution_score)"
   ]
  },
  {
   "cell_type": "code",
   "execution_count": 11,
   "metadata": {},
   "outputs": [
    {
     "data": {
      "text/plain": [
       "<matplotlib.axes._subplots.AxesSubplot at 0x240b6d14730>"
      ]
     },
     "execution_count": 11,
     "metadata": {},
     "output_type": "execute_result"
    },
    {
     "data": {
      "image/png": "[encoded data removed]",
      "text/plain": [
       "<Figure size 432x288 with 1 Axes>"
      ]
     },
     "metadata": {
      "needs_background": "light"
     },
     "output_type": "display_data"
    }
   ],
   "source": [
    "data_to_assess.plot.scatter(x=\"purchase_sum\",y=\"experience\")"
   ]
  },
  {
   "cell_type": "code",
   "execution_count": null,
   "metadata": {},
   "outputs": [],
   "source": []
  }
 ],
 "metadata": {
  "kernelspec": {
   "display_name": "Python 3",
   "language": "python",
   "name": "python3"
  },
  "language_info": {
   "codemirror_mode": {
    "name": "ipython",
    "version": 3
   },
   "file_extension": ".py",
   "mimetype": "text/x-python",
   "name": "python",
   "nbconvert_exporter": "python",
   "pygments_lexer": "ipython3",
   "version": "3.8.3"
  }
 },
 "nbformat": 4,
 "nbformat_minor": 2
}
