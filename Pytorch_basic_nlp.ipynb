{
  "nbformat": 4,
  "nbformat_minor": 0,
  "metadata": {
    "colab": {
      "name": "02-02e.ipynb",
      "provenance": [],
      "collapsed_sections": [],
      "include_colab_link": true
    },
    "kernelspec": {
      "name": "python3",
      "display_name": "Python 3"
    },
    "language_info": {
      "name": "python"
    }
  },
  "cells": [
    {
      "cell_type": "markdown",
      "metadata": {
        "id": "view-in-github",
        "colab_type": "text"
      },
      "source": [
        "<a href=\"https://colab.research.google.com/github/arshad831/arshad831/blob/main/Pytorch_basic_nlp.ipynb\" target=\"_parent\"><img src=\"https://colab.research.google.com/assets/colab-badge.svg\" alt=\"Open In Colab\"/></a>"
      ]
    },
    {
      "cell_type": "markdown",
      "metadata": {
        "id": "NCYsbCuZ5ZcD"
      },
      "source": [
        "**PyTorch tensor**\n",
        "\n",
        "A tensor is a data structure or data container we use in PyTorch for carrying arrays of numbers.\n",
        "\n",
        "**a. Creating a tensor**"
      ]
    },
    {
      "cell_type": "code",
      "source": [
        "pip install torch"
      ],
      "metadata": {
        "colab": {
          "base_uri": "https://localhost:8080/"
        },
        "id": "pQ2jL-d9JK3T",
        "outputId": "87bfee72-5a25-4c41-e304-1b1a122ca9f1"
      },
      "execution_count": 1,
      "outputs": [
        {
          "output_type": "stream",
          "name": "stdout",
          "text": [
            "Looking in indexes: https://pypi.org/simple, https://us-python.pkg.dev/colab-wheels/public/simple/\n",
            "Requirement already satisfied: torch in /usr/local/lib/python3.7/dist-packages (1.11.0+cu113)\n",
            "Requirement already satisfied: typing-extensions in /usr/local/lib/python3.7/dist-packages (from torch) (4.2.0)\n"
          ]
        }
      ]
    },
    {
      "cell_type": "code",
      "metadata": {
        "id": "CuV5OrPJ8aTG"
      },
      "source": [
        "import torch\n",
        "import numpy as np"
      ],
      "execution_count": 2,
      "outputs": []
    },
    {
      "cell_type": "code",
      "source": [
        "# Construct a tensor from an array\n",
        "array = [[1, 3], [7, 4], [5, 6]]\n",
        "tensor0 = torch.tensor(array)\n",
        "print(tensor0)\n",
        "print(\"The data structure type of tensor0: \", type(tensor0))\n",
        "print(\"The data type of tensor0: \", tensor0.dtype)\n",
        "print(\"The shape of tensor0: \", tensor0.shape)"
      ],
      "metadata": {
        "colab": {
          "base_uri": "https://localhost:8080/"
        },
        "id": "W2a2Pv03VC6T",
        "outputId": "8c0b3613-99fd-424c-8ec4-eea992bdb77e"
      },
      "execution_count": 4,
      "outputs": [
        {
          "output_type": "stream",
          "name": "stdout",
          "text": [
            "tensor([[1, 3],\n",
            "        [7, 4],\n",
            "        [5, 6]])\n",
            "The data structure type of tensor0:  <class 'torch.Tensor'>\n",
            "The data type of tensor0:  torch.int64\n",
            "The shape of tensor0:  torch.Size([3, 2])\n"
          ]
        }
      ]
    },
    {
      "cell_type": "code",
      "metadata": {
        "colab": {
          "base_uri": "https://localhost:8080/"
        },
        "id": "RJbcImRI8ccN",
        "outputId": "bf7b25fa-38bd-495b-ebb6-c7dd20911a14"
      },
      "source": [
        "# Construct a tensor from a numpy array\n",
        "np_array = np.array([[1, 2], [7, 4], [5, 6]])\n",
        "tensor1 = torch.tensor(np_array)\n",
        "print(tensor1)"
      ],
      "execution_count": 5,
      "outputs": [
        {
          "output_type": "stream",
          "name": "stdout",
          "text": [
            "tensor([[1, 2],\n",
            "        [7, 4],\n",
            "        [5, 6]])\n"
          ]
        }
      ]
    },
    {
      "cell_type": "markdown",
      "metadata": {
        "id": "GC5RVjNcYmfK"
      },
      "source": [
        "**b. Common Methods: Slicing and Concatenation**\n",
        "\n",
        "*Slicing*"
      ]
    },
    {
      "cell_type": "code",
      "source": [
        "tensorA = torch.tensor([[1, 1, 1], [2, 2, 2]])\n",
        "tensorB = torch.tensor([[3, 3, 3], [4, 4, 4]])"
      ],
      "metadata": {
        "id": "K_7yCwVXYmfL"
      },
      "execution_count": 6,
      "outputs": []
    },
    {
      "cell_type": "code",
      "source": [
        "tensorA[:,:1]"
      ],
      "metadata": {
        "colab": {
          "base_uri": "https://localhost:8080/"
        },
        "id": "E8B-bnGaj9vt",
        "outputId": "9862736c-8cb4-436f-eca0-47c82fed61a9"
      },
      "execution_count": 13,
      "outputs": [
        {
          "output_type": "execute_result",
          "data": {
            "text/plain": [
              "tensor([[1],\n",
              "        [2]])"
            ]
          },
          "metadata": {},
          "execution_count": 13
        }
      ]
    },
    {
      "cell_type": "code",
      "metadata": {
        "colab": {
          "base_uri": "https://localhost:8080/"
        },
        "outputId": "44efea8c-e9b6-4dc3-f2e8-4a00b93fcb1d",
        "id": "xWRshVHJYmfL"
      },
      "source": [
        "# Slicing is all the same as numpy arrays\n",
        "print('Slicing the first two rows of tensorA (index one inclusive index two exclusive): ')\n",
        "print(tensorA[:2])\n",
        "print('Slicing the first two columns of tensorA (take all rows, then slice columns): ')\n",
        "print(tensorA[:, :2])"
      ],
      "execution_count": 7,
      "outputs": [
        {
          "output_type": "stream",
          "name": "stdout",
          "text": [
            "Slicing the first two rows of tensorA (index one inclusive index two exclusive): \n",
            "tensor([[1, 1, 1],\n",
            "        [2, 2, 2]])\n",
            "Slicing the first two columns of tensorA (take all rows, then slice columns): \n",
            "tensor([[1, 1],\n",
            "        [2, 2]])\n"
          ]
        }
      ]
    },
    {
      "cell_type": "markdown",
      "source": [
        "*Concatenation*"
      ],
      "metadata": {
        "id": "SjmvEaOEYmfL"
      }
    },
    {
      "cell_type": "code",
      "metadata": {
        "colab": {
          "base_uri": "https://localhost:8080/"
        },
        "outputId": "05be4a9c-b676-4e16-948a-8fc6ea5103ee",
        "id": "YKmDowsEYmfL"
      },
      "source": [
        "print('Vertically concatenate tensorA and tensorB: (default: dim=0)')\n",
        "concat_v = torch.cat([tensorA, tensorB]) # wrap them in an array\n",
        "print(concat_v)"
      ],
      "execution_count": 14,
      "outputs": [
        {
          "output_type": "stream",
          "name": "stdout",
          "text": [
            "Vertically concatenate tensorA and tensorB: (default: dim=0)\n",
            "tensor([[1, 1, 1],\n",
            "        [2, 2, 2],\n",
            "        [3, 3, 3],\n",
            "        [4, 4, 4]])\n"
          ]
        }
      ]
    },
    {
      "cell_type": "code",
      "metadata": {
        "colab": {
          "base_uri": "https://localhost:8080/"
        },
        "outputId": "1d8934d6-93ff-4e67-ca16-6bf919705fd8",
        "id": "x96PHGBbYmfM"
      },
      "source": [
        "print('Horizontally concatenate tensorA and tensorB: (dim=1)')\n",
        "concat_h = torch.cat([tensorA, tensorB], dim=1)\n",
        "print(concat_h)"
      ],
      "execution_count": 15,
      "outputs": [
        {
          "output_type": "stream",
          "name": "stdout",
          "text": [
            "Horizontally concatenate tensorA and tensorB: (dim=1)\n",
            "tensor([[1, 1, 1, 3, 3, 3],\n",
            "        [2, 2, 2, 4, 4, 4]])\n"
          ]
        }
      ]
    }
  ]
}